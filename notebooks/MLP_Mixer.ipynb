{
  "nbformat": 4,
  "nbformat_minor": 0,
  "metadata": {
    "colab": {
      "name": "MLP-Mixer.ipynb",
      "provenance": [],
      "collapsed_sections": []
    },
    "kernelspec": {
      "name": "python3",
      "display_name": "Python 3"
    },
    "language_info": {
      "name": "python"
    },
    "accelerator": "TPU"
  },
  "cells": [
    {
      "cell_type": "markdown",
      "metadata": {
        "id": "3UPgzLqt5zCH"
      },
      "source": [
        "# Coding: Vision Transformers (Oct 14)\n",
        "## MLP-Mixer (https://arxiv.org/abs/2105.01601)"
      ]
    },
    {
      "cell_type": "markdown",
      "metadata": {
        "id": "mjenzaZCFGKz"
      },
      "source": [
        "Mount drive (to store results)"
      ]
    },
    {
      "cell_type": "code",
      "metadata": {
        "colab": {
          "base_uri": "https://localhost:8080/"
        },
        "id": "vxCySG5aFODz",
        "outputId": "0c6c78fd-bb28-4e08-a6ec-310769129fc2"
      },
      "source": [
        "from google.colab import drive\n",
        "drive.mount('/content/drive')"
      ],
      "execution_count": 1,
      "outputs": [
        {
          "output_type": "stream",
          "name": "stdout",
          "text": [
            "Drive already mounted at /content/drive; to attempt to forcibly remount, call drive.mount(\"/content/drive\", force_remount=True).\n"
          ]
        }
      ]
    },
    {
      "cell_type": "markdown",
      "metadata": {
        "id": "bDmoF_RB5mWz"
      },
      "source": [
        "Install dependencies"
      ]
    },
    {
      "cell_type": "code",
      "metadata": {
        "colab": {
          "base_uri": "https://localhost:8080/"
        },
        "id": "EEKrTRU14xn5",
        "outputId": "b9e21a4d-75bc-4997-e3f8-6e330ef80257"
      },
      "source": [
        "!pip install timm"
      ],
      "execution_count": 2,
      "outputs": [
        {
          "output_type": "stream",
          "name": "stdout",
          "text": [
            "Requirement already satisfied: timm in /usr/local/lib/python3.7/dist-packages (0.4.12)\n",
            "Requirement already satisfied: torch>=1.4 in /usr/local/lib/python3.7/dist-packages (from timm) (1.9.0+cu111)\n",
            "Requirement already satisfied: torchvision in /usr/local/lib/python3.7/dist-packages (from timm) (0.10.0+cu111)\n",
            "Requirement already satisfied: typing-extensions in /usr/local/lib/python3.7/dist-packages (from torch>=1.4->timm) (3.7.4.3)\n",
            "Requirement already satisfied: pillow>=5.3.0 in /usr/local/lib/python3.7/dist-packages (from torchvision->timm) (7.1.2)\n",
            "Requirement already satisfied: numpy in /usr/local/lib/python3.7/dist-packages (from torchvision->timm) (1.19.5)\n"
          ]
        }
      ]
    },
    {
      "cell_type": "markdown",
      "metadata": {
        "id": "xK4fpg_o_gKs"
      },
      "source": [
        "Imports"
      ]
    },
    {
      "cell_type": "code",
      "metadata": {
        "colab": {
          "base_uri": "https://localhost:8080/"
        },
        "id": "cQJ1NKng_lUk",
        "outputId": "1060f563-734d-484c-e472-f13c901320fa"
      },
      "source": [
        "import csv\n",
        "import numpy as np\n",
        "import torch\n",
        "import torch.nn.functional as F\n",
        "from torch import nn\n",
        "from torchvision import datasets,transforms\n",
        "import torch.utils.tensorboard as tb\n",
        "import time\n",
        "from os import path\n",
        "\n",
        "import shutil\n",
        "import os\n",
        "\n",
        "import timm \n",
        "\n",
        "from tqdm import tqdm\n",
        "\n",
        "%pylab inline\n",
        "\n",
        "\n",
        "device = torch.device(\"cuda:0\" if torch.cuda.is_available() else \"cpu\")"
      ],
      "execution_count": 3,
      "outputs": [
        {
          "output_type": "stream",
          "name": "stdout",
          "text": [
            "Populating the interactive namespace from numpy and matplotlib\n"
          ]
        }
      ]
    },
    {
      "cell_type": "markdown",
      "metadata": {
        "id": "DVxT0o1U6HTF"
      },
      "source": [
        "Download TinyImageNet dataset"
      ]
    },
    {
      "cell_type": "code",
      "metadata": {
        "id": "0UD_MXn-7ZWD"
      },
      "source": [
        "# TinyImageNet\n",
        "if not path.isdir(\"./data/tiny-imagenet-200\"):\n",
        "    !wget http://cs231n.stanford.edu/tiny-imagenet-200.zip\n",
        "    !unzip -q tiny-imagenet-200.zip -d ./data/"
      ],
      "execution_count": 4,
      "outputs": []
    },
    {
      "cell_type": "code",
      "metadata": {
        "id": "4_b43-2J-hSe"
      },
      "source": [
        "#@title Hyperparameters (TODO: find reasonable values)\n",
        "batch_size = \"256\" #@param [\"64\", \"128\", \"256\"]\n",
        "learning_rate = \"0.001\" #@param [\"0.0001\", \"0.001\", \"0.01\", \"0.1\"]"
      ],
      "execution_count": 5,
      "outputs": []
    },
    {
      "cell_type": "markdown",
      "metadata": {
        "id": "ZqSqyaBD9B2L"
      },
      "source": [
        "Create dataloader for selected dataset; set fitting input/output sizes for selected dataset; set name for log file based on dataset, hyperparameters"
      ]
    },
    {
      "cell_type": "code",
      "metadata": {
        "colab": {
          "base_uri": "https://localhost:8080/"
        },
        "id": "9dVNwdSX9GXG",
        "outputId": "f88b7255-bf33-4905-9044-810a8e25fca4"
      },
      "source": [
        "dataset = \"CIFAR-10\" #@param [\"STL-10\", \"TinyImageNet\", \"CIFAR-10\"]\n",
        "\n",
        "# create datasets\n",
        "if dataset == \"STL-10\":\n",
        "    training_dataset = datasets.STL10(root='./data/STL10', split='train', transform=transforms.ToTensor(), download=True)\n",
        "    validation_dataset = datasets.STL10(root='./data/STL10', split='test', transform=transforms.ToTensor(), download=True)\n",
        "    in_size = 96\n",
        "    num_classes = 10\n",
        "if dataset == \"CIFAR-10\":\n",
        "    training_dataset = datasets.CIFAR10(root='./data/CIFAR10', train=True, download=True, transform=transforms.ToTensor())\n",
        "    validation_dataset = datasets.CIFAR10(root='./data/CIFAR10', train=False, download=True, transform=transforms.ToTensor())\n",
        "    in_size = 32\n",
        "    num_classes = 10\n",
        "if dataset == \"TinyImageNet\":\n",
        "    training_dataset = datasets.ImageFolder(\"./data/tiny-imagenet-200/train\", transform=transforms.Compose([transforms.ToTensor()]))\n",
        "    validation_dataset = datasets.ImageFolder(\"./data/tiny-imagenet-200/val\", transform=transforms.Compose([transforms.ToTensor()]))\n",
        "    in_size = 64\n",
        "    num_classes = 200\n",
        "\n",
        "# create dataloaders\n",
        "training_loader = torch.utils.data.DataLoader(training_dataset, batch_size=int(batch_size), shuffle=True, pin_memory=True)\n",
        "validation_loader = torch.utils.data.DataLoader(validation_dataset, batch_size=int(batch_size), shuffle=False, pin_memory=True)\n",
        "\n",
        "# set name for log file\n",
        "result_filename = \"MLP-Mixer_\" + dataset + \"_batch\" + batch_size + \"_learnrate\" + learning_rate"
      ],
      "execution_count": 6,
      "outputs": [
        {
          "output_type": "stream",
          "name": "stdout",
          "text": [
            "Files already downloaded and verified\n",
            "Files already downloaded and verified\n"
          ]
        }
      ]
    },
    {
      "cell_type": "markdown",
      "metadata": {
        "id": "lXc127VXH434"
      },
      "source": [
        "Dataloader Test"
      ]
    },
    {
      "cell_type": "code",
      "metadata": {
        "colab": {
          "base_uri": "https://localhost:8080/",
          "height": 536
        },
        "id": "G7ThwT4bGjZD",
        "outputId": "9a30de8d-ab00-4604-dfcf-a4ac15642859"
      },
      "source": [
        "train_data, train_label = next(iter(training_loader))\n",
        "\n",
        "to_image = transforms.ToPILImage()\n",
        "\n",
        "figure(figsize=(9,9))\n",
        "# Plot the first 9 images\n",
        "for i, (data, label) in enumerate(zip(train_data[:9],train_label[:9])):\n",
        "    subplot(3,3,1+i)\n",
        "    imshow(to_image(data))\n",
        "    title('label = %d'%label)\n",
        "    axis('off')"
      ],
      "execution_count": 7,
      "outputs": [
        {
          "output_type": "display_data",
          "data": {
            "image/png": "[encoded data removed]",
            "text/plain": [
              "<Figure size 648x648 with 9 Axes>"
            ]
          },
          "metadata": {
            "needs_background": "light"
          }
        }
      ]
    },
    {
      "cell_type": "markdown",
      "metadata": {
        "id": "8fsTBU5cEl17"
      },
      "source": [
        "Load tensorboard"
      ]
    },
    {
      "cell_type": "code",
      "metadata": {
        "colab": {
          "base_uri": "https://localhost:8080/",
          "height": 841
        },
        "id": "VkhqvTvJEnJl",
        "outputId": "1c53b248-df1a-4acd-841f-5189e7d35577"
      },
      "source": [
        "%load_ext tensorboard\n",
        "%tensorboard --logdir . --port 6006"
      ],
      "execution_count": 8,
      "outputs": [
        {
          "output_type": "display_data",
          "data": {
            "text/plain": [
              "Reusing TensorBoard on port 6006 (pid 288), started 2:14:10 ago. (Use '!kill 288' to kill it.)"
            ]
          },
          "metadata": {}
        },
        {
          "output_type": "display_data",
          "data": {
            "application/javascript": [
              "\n",
              "        (async () => {\n",
              "            const url = new URL(await google.colab.kernel.proxyPort(6006, {'cache': true}));\n",
              "            url.searchParams.set('tensorboardColab', 'true');\n",
              "            const iframe = document.createElement('iframe');\n",
              "            iframe.src = url;\n",
              "            iframe.setAttribute('width', '100%');\n",
              "            iframe.setAttribute('height', '800');\n",
              "            iframe.setAttribute('frameborder', 0);\n",
              "            document.body.appendChild(iframe);\n",
              "        })();\n",
              "    "
            ],
            "text/plain": [
              "<IPython.core.display.Javascript object>"
            ]
          },
          "metadata": {}
        }
      ]
    },
    {
      "cell_type": "markdown",
      "metadata": {
        "id": "Pl3yqRF9Fs9d"
      },
      "source": [
        "Train and log results"
      ]
    },
    {
      "cell_type": "code",
      "metadata": {
        "colab": {
          "base_uri": "https://localhost:8080/"
        },
        "id": "3bOqG-SdFuay",
        "outputId": "40ff9bbd-b0a7-4fdd-fe1b-eded81b03dbc"
      },
      "source": [
        "epochs = 2\n",
        "\n",
        "\n",
        "# create B/16 model\n",
        "model = timm.models.mlp_mixer.MlpMixer(num_classes=num_classes, img_size=in_size, num_blocks=12, patch_size=16, embed_dim=768).to(device)\n",
        "\n",
        "'''\n",
        "Possible parameters:\n",
        "            num_classes=1000,\n",
        "            img_size=224,\n",
        "            in_chans=3,\n",
        "            patch_size=16,\n",
        "            num_blocks=8,\n",
        "            embed_dim=512,\n",
        "            mlp_ratio=(0.5, 4.0),\n",
        "            block_layer=MixerBlock,\n",
        "            mlp_layer=Mlp,\n",
        "            norm_layer=partial(nn.LayerNorm, eps=1e-6),\n",
        "            act_layer=nn.GELU,\n",
        "            drop_rate=0.,\n",
        "            drop_path_rate=0.,\n",
        "            nlhb=False,\n",
        "            stem_norm=False,\n",
        "'''\n",
        "\n",
        "# create optimizer\n",
        "optimizer = torch.optim.Adam(model.parameters(), lr=float(learning_rate))\n",
        "\n",
        "# create loss function\n",
        "loss_fn = nn.CrossEntropyLoss()\n",
        "\n",
        "# create loggers\n",
        "train_logger = tb.SummaryWriter(path.join(\".\", 'train{}'.format(time.strftime('%m-%d-%H-%M'))), flush_secs=1)\n",
        "valid_logger = tb.SummaryWriter(path.join(\".\", 'valid{}'.format(time.strftime('%m-%d-%H-%M'))), flush_secs=1)\n",
        "\n",
        "results =  []\n",
        "\n",
        "global_step = 0\n",
        "\n",
        "# TODO: once a good number of epochs has been found, do for loop over batch sizes, learning rates; create dataloader, optimizer based on that\n",
        "# maybe even iterate over datasets\n",
        "'''\n",
        "for learning_rate in [0.0001, 0.001, 0.01]:\n",
        "    for batch_size in [256, 512, 1024]:\n",
        "        create dataloaders, optimizer\n",
        "'''\n",
        "\n",
        "for e in range(epochs):\n",
        "    running_loss = 0.0\n",
        "    running_corrects = 0.0\n",
        "    val_running_loss = 0.0\n",
        "    val_running_corrects = 0.0\n",
        "    \n",
        "    for inputs, labels in tqdm(training_loader):\n",
        "        inputs = inputs.to(device)\n",
        "        labels = labels.to(device)\n",
        "\n",
        "        outputs = model(inputs)\n",
        "\n",
        "        loss = loss_fn(outputs, labels) \n",
        "\n",
        "        train_logger.add_scalar('loss', loss, global_step)\n",
        "\n",
        "        optimizer.zero_grad()\n",
        "        loss.backward()\n",
        "        optimizer.step()\n",
        "\n",
        "        _, preds = torch.max(outputs, 1)\n",
        "        running_loss += loss.item()\n",
        "        running_corrects += torch.sum(preds == labels.data).item()\n",
        "\n",
        "        global_step += 1\n",
        "\n",
        "    # validation\n",
        "    with torch.no_grad(): # No gradient for validation\n",
        "        for val_inputs, val_labels in validation_loader:\n",
        "            val_inputs = val_inputs.to(device)\n",
        "            val_labels = val_labels.to(device)\n",
        "\n",
        "            val_outputs = model(val_inputs)\n",
        "\n",
        "            val_loss = loss_fn(val_outputs, val_labels)\n",
        "            \n",
        "            _, val_preds = torch.max(val_outputs, 1)\n",
        "            val_running_loss += val_loss.item()\n",
        "            val_running_corrects += torch.sum(val_preds == val_labels.data).item()\n",
        "        \n",
        "    epoch_loss = running_loss/len(training_dataset)\n",
        "    epoch_acc = running_corrects/ len(training_dataset)\n",
        "\n",
        "    train_logger.add_scalar('accuracy', epoch_acc, global_step)\n",
        "    \n",
        "    val_epoch_loss = val_running_loss/len(validation_dataset)\n",
        "    val_epoch_acc = val_running_corrects/ len(validation_dataset)\n",
        "    \n",
        "    valid_logger.add_scalar('accuracy', val_epoch_acc, global_step)\n",
        "    \n",
        "    epoch_results = {\n",
        "        'Epoch': e,\n",
        "        'Training Loss': round(epoch_loss, 3),\n",
        "        'Validation Loss': round(val_epoch_loss, 3),\n",
        "        'Training Accuracy': round(epoch_acc,3),\n",
        "        'Validation Accuracy': round(val_epoch_acc,3)\n",
        "        }\n",
        "    \n",
        "    print(epoch_results)\n",
        "    results.append(epoch_results)\n",
        "\n",
        "csv_columns = ['Epoch', 'Training Loss', 'Validation Loss', 'Training Accuracy',  'Validation Accuracy']\n",
        "try:\n",
        "    with open(result_filename + \".csv\", 'w', newline='') as csvfile:\n",
        "        writer = csv.DictWriter(csvfile, fieldnames=csv_columns)\n",
        "        writer.writeheader()\n",
        "        for data in results:\n",
        "            writer.writerow(data)\n",
        "except IOError:\n",
        "    print(\"I/O error\")\n",
        "\n",
        "torch.save(model, result_filename + \".th\")\n",
        "\n",
        "# save results to drive\n",
        "try:\n",
        "    if not os.path.exists('/content/drive/My Drive/MLP-Mixer_Results/'):\n",
        "        os.mkdir('/content/drive/My Drive/MLP-Mixer_Results/')\n",
        "    shutil.copy(result_filename + \".th\", \"/content/drive/My Drive/MLP-Mixer_Results/\" + result_filename + \".th\")\n",
        "    shutil.copy(result_filename + \".csv\", \"/content/drive/My Drive/MLP-Mixer_Results/\" + result_filename + \".csv\")\n",
        "except Exception as e:\n",
        "    print(e)"
      ],
      "execution_count": null,
      "outputs": [
        {
          "output_type": "stream",
          "name": "stderr",
          "text": [
            "  4%|▍         | 8/196 [02:46<1:03:32, 20.28s/it]"
          ]
        }
      ]
    }
  ]
}