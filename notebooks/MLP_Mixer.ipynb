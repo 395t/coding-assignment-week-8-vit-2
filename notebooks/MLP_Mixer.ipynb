{
  "nbformat": 4,
  "nbformat_minor": 0,
  "metadata": {
    "colab": {
      "name": "MLP_Mixer.ipynb",
      "provenance": [],
      "collapsed_sections": []
    },
    "kernelspec": {
      "name": "python3",
      "display_name": "Python 3"
    },
    "language_info": {
      "name": "python"
    },
    "accelerator": "TPU",
    "widgets": {
      "application/vnd.jupyter.widget-state+json": {
        "0588c085d8f74ac7b6b4fccee8c12a60": {
          "model_module": "@jupyter-widgets/controls",
          "model_name": "HBoxModel",
          "model_module_version": "1.5.0",
          "state": {
            "_view_name": "HBoxView",
            "_dom_classes": [],
            "_model_name": "HBoxModel",
            "_view_module": "@jupyter-widgets/controls",
            "_model_module_version": "1.5.0",
            "_view_count": null,
            "_view_module_version": "1.5.0",
            "box_style": "",
            "layout": "IPY_MODEL_d3884ae260c64d2886aaf3426c3d6777",
            "_model_module": "@jupyter-widgets/controls",
            "children": [
              "IPY_MODEL_d905b7aca86b4754823d7317b508f921",
              "IPY_MODEL_091bee222cc74c00b37516242bca36a1",
              "IPY_MODEL_9cdc88af6cd0414bbce7f7e63ae35338"
            ]
          }
        },
        "d3884ae260c64d2886aaf3426c3d6777": {
          "model_module": "@jupyter-widgets/base",
          "model_name": "LayoutModel",
          "model_module_version": "1.2.0",
          "state": {
            "_view_name": "LayoutView",
            "grid_template_rows": null,
            "right": null,
            "justify_content": null,
            "_view_module": "@jupyter-widgets/base",
            "overflow": null,
            "_model_module_version": "1.2.0",
            "_view_count": null,
            "flex_flow": null,
            "width": null,
            "min_width": null,
            "border": null,
            "align_items": null,
            "bottom": null,
            "_model_module": "@jupyter-widgets/base",
            "top": null,
            "grid_column": null,
            "overflow_y": null,
            "overflow_x": null,
            "grid_auto_flow": null,
            "grid_area": null,
            "grid_template_columns": null,
            "flex": null,
            "_model_name": "LayoutModel",
            "justify_items": null,
            "grid_row": null,
            "max_height": null,
            "align_content": null,
            "visibility": null,
            "align_self": null,
            "height": null,
            "min_height": null,
            "padding": null,
            "grid_auto_rows": null,
            "grid_gap": null,
            "max_width": null,
            "order": null,
            "_view_module_version": "1.2.0",
            "grid_template_areas": null,
            "object_position": null,
            "object_fit": null,
            "grid_auto_columns": null,
            "margin": null,
            "display": null,
            "left": null
          }
        },
        "d905b7aca86b4754823d7317b508f921": {
          "model_module": "@jupyter-widgets/controls",
          "model_name": "HTMLModel",
          "model_module_version": "1.5.0",
          "state": {
            "_view_name": "HTMLView",
            "style": "IPY_MODEL_ba0ad0837f15401dba768ac89fdf9dd4",
            "_dom_classes": [],
            "description": "",
            "_model_name": "HTMLModel",
            "placeholder": "​",
            "_view_module": "@jupyter-widgets/controls",
            "_model_module_version": "1.5.0",
            "value": "  7%",
            "_view_count": null,
            "_view_module_version": "1.5.0",
            "description_tooltip": null,
            "_model_module": "@jupyter-widgets/controls",
            "layout": "IPY_MODEL_c625cbbcbdca4b01983b153ba519d8ab"
          }
        },
        "091bee222cc74c00b37516242bca36a1": {
          "model_module": "@jupyter-widgets/controls",
          "model_name": "FloatProgressModel",
          "model_module_version": "1.5.0",
          "state": {
            "_view_name": "ProgressView",
            "style": "IPY_MODEL_8d502915138f4b75afa9629635e85da8",
            "_dom_classes": [],
            "description": "",
            "_model_name": "FloatProgressModel",
            "bar_style": "",
            "max": 2640397119,
            "_view_module": "@jupyter-widgets/controls",
            "_model_module_version": "1.5.0",
            "value": 190809088,
            "_view_count": null,
            "_view_module_version": "1.5.0",
            "orientation": "horizontal",
            "min": 0,
            "description_tooltip": null,
            "_model_module": "@jupyter-widgets/controls",
            "layout": "IPY_MODEL_d0df5fb92a55461dbbbc2bfbcb7cd4c2"
          }
        },
        "9cdc88af6cd0414bbce7f7e63ae35338": {
          "model_module": "@jupyter-widgets/controls",
          "model_name": "HTMLModel",
          "model_module_version": "1.5.0",
          "state": {
            "_view_name": "HTMLView",
            "style": "IPY_MODEL_1a28135ebc6a499b92988851daff8c52",
            "_dom_classes": [],
            "description": "",
            "_model_name": "HTMLModel",
            "placeholder": "​",
            "_view_module": "@jupyter-widgets/controls",
            "_model_module_version": "1.5.0",
            "value": " 190809088/2640397119 [00:11&lt;02:10, 18755956.10it/s]",
            "_view_count": null,
            "_view_module_version": "1.5.0",
            "description_tooltip": null,
            "_model_module": "@jupyter-widgets/controls",
            "layout": "IPY_MODEL_9b073b6951fc41de97d39e5b392d7177"
          }
        },
        "ba0ad0837f15401dba768ac89fdf9dd4": {
          "model_module": "@jupyter-widgets/controls",
          "model_name": "DescriptionStyleModel",
          "model_module_version": "1.5.0",
          "state": {
            "_view_name": "StyleView",
            "_model_name": "DescriptionStyleModel",
            "description_width": "",
            "_view_module": "@jupyter-widgets/base",
            "_model_module_version": "1.5.0",
            "_view_count": null,
            "_view_module_version": "1.2.0",
            "_model_module": "@jupyter-widgets/controls"
          }
        },
        "c625cbbcbdca4b01983b153ba519d8ab": {
          "model_module": "@jupyter-widgets/base",
          "model_name": "LayoutModel",
          "model_module_version": "1.2.0",
          "state": {
            "_view_name": "LayoutView",
            "grid_template_rows": null,
            "right": null,
            "justify_content": null,
            "_view_module": "@jupyter-widgets/base",
            "overflow": null,
            "_model_module_version": "1.2.0",
            "_view_count": null,
            "flex_flow": null,
            "width": null,
            "min_width": null,
            "border": null,
            "align_items": null,
            "bottom": null,
            "_model_module": "@jupyter-widgets/base",
            "top": null,
            "grid_column": null,
            "overflow_y": null,
            "overflow_x": null,
            "grid_auto_flow": null,
            "grid_area": null,
            "grid_template_columns": null,
            "flex": null,
            "_model_name": "LayoutModel",
            "justify_items": null,
            "grid_row": null,
            "max_height": null,
            "align_content": null,
            "visibility": null,
            "align_self": null,
            "height": null,
            "min_height": null,
            "padding": null,
            "grid_auto_rows": null,
            "grid_gap": null,
            "max_width": null,
            "order": null,
            "_view_module_version": "1.2.0",
            "grid_template_areas": null,
            "object_position": null,
            "object_fit": null,
            "grid_auto_columns": null,
            "margin": null,
            "display": null,
            "left": null
          }
        },
        "8d502915138f4b75afa9629635e85da8": {
          "model_module": "@jupyter-widgets/controls",
          "model_name": "ProgressStyleModel",
          "model_module_version": "1.5.0",
          "state": {
            "_view_name": "StyleView",
            "_model_name": "ProgressStyleModel",
            "description_width": "",
            "_view_module": "@jupyter-widgets/base",
            "_model_module_version": "1.5.0",
            "_view_count": null,
            "_view_module_version": "1.2.0",
            "bar_color": null,
            "_model_module": "@jupyter-widgets/controls"
          }
        },
        "d0df5fb92a55461dbbbc2bfbcb7cd4c2": {
          "model_module": "@jupyter-widgets/base",
          "model_name": "LayoutModel",
          "model_module_version": "1.2.0",
          "state": {
            "_view_name": "LayoutView",
            "grid_template_rows": null,
            "right": null,
            "justify_content": null,
            "_view_module": "@jupyter-widgets/base",
            "overflow": null,
            "_model_module_version": "1.2.0",
            "_view_count": null,
            "flex_flow": null,
            "width": null,
            "min_width": null,
            "border": null,
            "align_items": null,
            "bottom": null,
            "_model_module": "@jupyter-widgets/base",
            "top": null,
            "grid_column": null,
            "overflow_y": null,
            "overflow_x": null,
            "grid_auto_flow": null,
            "grid_area": null,
            "grid_template_columns": null,
            "flex": null,
            "_model_name": "LayoutModel",
            "justify_items": null,
            "grid_row": null,
            "max_height": null,
            "align_content": null,
            "visibility": null,
            "align_self": null,
            "height": null,
            "min_height": null,
            "padding": null,
            "grid_auto_rows": null,
            "grid_gap": null,
            "max_width": null,
            "order": null,
            "_view_module_version": "1.2.0",
            "grid_template_areas": null,
            "object_position": null,
            "object_fit": null,
            "grid_auto_columns": null,
            "margin": null,
            "display": null,
            "left": null
          }
        },
        "1a28135ebc6a499b92988851daff8c52": {
          "model_module": "@jupyter-widgets/controls",
          "model_name": "DescriptionStyleModel",
          "model_module_version": "1.5.0",
          "state": {
            "_view_name": "StyleView",
            "_model_name": "DescriptionStyleModel",
            "description_width": "",
            "_view_module": "@jupyter-widgets/base",
            "_model_module_version": "1.5.0",
            "_view_count": null,
            "_view_module_version": "1.2.0",
            "_model_module": "@jupyter-widgets/controls"
          }
        },
        "9b073b6951fc41de97d39e5b392d7177": {
          "model_module": "@jupyter-widgets/base",
          "model_name": "LayoutModel",
          "model_module_version": "1.2.0",
          "state": {
            "_view_name": "LayoutView",
            "grid_template_rows": null,
            "right": null,
            "justify_content": null,
            "_view_module": "@jupyter-widgets/base",
            "overflow": null,
            "_model_module_version": "1.2.0",
            "_view_count": null,
            "flex_flow": null,
            "width": null,
            "min_width": null,
            "border": null,
            "align_items": null,
            "bottom": null,
            "_model_module": "@jupyter-widgets/base",
            "top": null,
            "grid_column": null,
            "overflow_y": null,
            "overflow_x": null,
            "grid_auto_flow": null,
            "grid_area": null,
            "grid_template_columns": null,
            "flex": null,
            "_model_name": "LayoutModel",
            "justify_items": null,
            "grid_row": null,
            "max_height": null,
            "align_content": null,
            "visibility": null,
            "align_self": null,
            "height": null,
            "min_height": null,
            "padding": null,
            "grid_auto_rows": null,
            "grid_gap": null,
            "max_width": null,
            "order": null,
            "_view_module_version": "1.2.0",
            "grid_template_areas": null,
            "object_position": null,
            "object_fit": null,
            "grid_auto_columns": null,
            "margin": null,
            "display": null,
            "left": null
          }
        }
      }
    }
  },
  "cells": [
    {
      "cell_type": "markdown",
      "metadata": {
        "id": "3UPgzLqt5zCH"
      },
      "source": [
        "# Coding: Vision Transformers (Oct 14)\n",
        "## MLP-Mixer (https://arxiv.org/abs/2105.01601)"
      ]
    },
    {
      "cell_type": "markdown",
      "metadata": {
        "id": "mjenzaZCFGKz"
      },
      "source": [
        "Mount drive (to store results)"
      ]
    },
    {
      "cell_type": "code",
      "metadata": {
        "colab": {
          "base_uri": "https://localhost:8080/"
        },
        "id": "vxCySG5aFODz",
        "outputId": "07db5d50-4f31-4869-ad5b-b07b47929aed"
      },
      "source": [
        "from google.colab import drive\n",
        "drive.mount('/content/drive')"
      ],
      "execution_count": 1,
      "outputs": [
        {
          "output_type": "stream",
          "name": "stdout",
          "text": [
            "Mounted at /content/drive\n"
          ]
        }
      ]
    },
    {
      "cell_type": "markdown",
      "metadata": {
        "id": "bDmoF_RB5mWz"
      },
      "source": [
        "Install dependencies"
      ]
    },
    {
      "cell_type": "code",
      "metadata": {
        "colab": {
          "base_uri": "https://localhost:8080/"
        },
        "id": "EEKrTRU14xn5",
        "outputId": "45849e94-deaf-496e-ccc9-60fd39d4456f"
      },
      "source": [
        "!pip install timm"
      ],
      "execution_count": 2,
      "outputs": [
        {
          "output_type": "stream",
          "name": "stdout",
          "text": [
            "Collecting timm\n",
            "  Downloading timm-0.4.12-py3-none-any.whl (376 kB)\n",
            "\u001b[?25l\r\u001b[K     |▉                               | 10 kB 21.6 MB/s eta 0:00:01\r\u001b[K     |█▊                              | 20 kB 27.9 MB/s eta 0:00:01\r\u001b[K     |██▋                             | 30 kB 12.2 MB/s eta 0:00:01\r\u001b[K     |███▌                            | 40 kB 9.3 MB/s eta 0:00:01\r\u001b[K     |████▍                           | 51 kB 5.4 MB/s eta 0:00:01\r\u001b[K     |█████▏                          | 61 kB 5.9 MB/s eta 0:00:01\r\u001b[K     |██████                          | 71 kB 5.7 MB/s eta 0:00:01\r\u001b[K     |███████                         | 81 kB 6.4 MB/s eta 0:00:01\r\u001b[K     |███████▉                        | 92 kB 4.8 MB/s eta 0:00:01\r\u001b[K     |████████▊                       | 102 kB 5.2 MB/s eta 0:00:01\r\u001b[K     |█████████▋                      | 112 kB 5.2 MB/s eta 0:00:01\r\u001b[K     |██████████▍                     | 122 kB 5.2 MB/s eta 0:00:01\r\u001b[K     |███████████▎                    | 133 kB 5.2 MB/s eta 0:00:01\r\u001b[K     |████████████▏                   | 143 kB 5.2 MB/s eta 0:00:01\r\u001b[K     |█████████████                   | 153 kB 5.2 MB/s eta 0:00:01\r\u001b[K     |██████████████                  | 163 kB 5.2 MB/s eta 0:00:01\r\u001b[K     |██████████████▊                 | 174 kB 5.2 MB/s eta 0:00:01\r\u001b[K     |███████████████▋                | 184 kB 5.2 MB/s eta 0:00:01\r\u001b[K     |████████████████▌               | 194 kB 5.2 MB/s eta 0:00:01\r\u001b[K     |█████████████████▍              | 204 kB 5.2 MB/s eta 0:00:01\r\u001b[K     |██████████████████▎             | 215 kB 5.2 MB/s eta 0:00:01\r\u001b[K     |███████████████████▏            | 225 kB 5.2 MB/s eta 0:00:01\r\u001b[K     |████████████████████            | 235 kB 5.2 MB/s eta 0:00:01\r\u001b[K     |████████████████████▉           | 245 kB 5.2 MB/s eta 0:00:01\r\u001b[K     |█████████████████████▊          | 256 kB 5.2 MB/s eta 0:00:01\r\u001b[K     |██████████████████████▋         | 266 kB 5.2 MB/s eta 0:00:01\r\u001b[K     |███████████████████████▌        | 276 kB 5.2 MB/s eta 0:00:01\r\u001b[K     |████████████████████████▍       | 286 kB 5.2 MB/s eta 0:00:01\r\u001b[K     |█████████████████████████▏      | 296 kB 5.2 MB/s eta 0:00:01\r\u001b[K     |██████████████████████████      | 307 kB 5.2 MB/s eta 0:00:01\r\u001b[K     |███████████████████████████     | 317 kB 5.2 MB/s eta 0:00:01\r\u001b[K     |███████████████████████████▉    | 327 kB 5.2 MB/s eta 0:00:01\r\u001b[K     |████████████████████████████▊   | 337 kB 5.2 MB/s eta 0:00:01\r\u001b[K     |█████████████████████████████▌  | 348 kB 5.2 MB/s eta 0:00:01\r\u001b[K     |██████████████████████████████▍ | 358 kB 5.2 MB/s eta 0:00:01\r\u001b[K     |███████████████████████████████▎| 368 kB 5.2 MB/s eta 0:00:01\r\u001b[K     |████████████████████████████████| 376 kB 5.2 MB/s \n",
            "\u001b[?25hRequirement already satisfied: torch>=1.4 in /usr/local/lib/python3.7/dist-packages (from timm) (1.9.0+cu111)\n",
            "Requirement already satisfied: torchvision in /usr/local/lib/python3.7/dist-packages (from timm) (0.10.0+cu111)\n",
            "Requirement already satisfied: typing-extensions in /usr/local/lib/python3.7/dist-packages (from torch>=1.4->timm) (3.7.4.3)\n",
            "Requirement already satisfied: numpy in /usr/local/lib/python3.7/dist-packages (from torchvision->timm) (1.19.5)\n",
            "Requirement already satisfied: pillow>=5.3.0 in /usr/local/lib/python3.7/dist-packages (from torchvision->timm) (7.1.2)\n",
            "Installing collected packages: timm\n",
            "Successfully installed timm-0.4.12\n"
          ]
        }
      ]
    },
    {
      "cell_type": "markdown",
      "metadata": {
        "id": "xK4fpg_o_gKs"
      },
      "source": [
        "Imports"
      ]
    },
    {
      "cell_type": "code",
      "metadata": {
        "colab": {
          "base_uri": "https://localhost:8080/"
        },
        "id": "cQJ1NKng_lUk",
        "outputId": "84a62994-7e36-4661-bf73-a5a2651bced9"
      },
      "source": [
        "import csv\n",
        "import numpy as np\n",
        "import torch\n",
        "import torch.nn.functional as F\n",
        "from torch import nn\n",
        "from torchvision import datasets,transforms\n",
        "import torch.utils.tensorboard as tb\n",
        "import time\n",
        "from os import path\n",
        "\n",
        "import shutil\n",
        "import os\n",
        "\n",
        "import timm \n",
        "\n",
        "from tqdm import tqdm\n",
        "\n",
        "%pylab inline\n",
        "\n",
        "\n",
        "device = torch.device(\"cuda:0\" if torch.cuda.is_available() else \"cpu\")"
      ],
      "execution_count": 3,
      "outputs": [
        {
          "output_type": "stream",
          "name": "stdout",
          "text": [
            "Populating the interactive namespace from numpy and matplotlib\n"
          ]
        }
      ]
    },
    {
      "cell_type": "markdown",
      "metadata": {
        "id": "DVxT0o1U6HTF"
      },
      "source": [
        "Download TinyImageNet dataset"
      ]
    },
    {
      "cell_type": "code",
      "metadata": {
        "colab": {
          "base_uri": "https://localhost:8080/"
        },
        "id": "0UD_MXn-7ZWD",
        "outputId": "21735f55-157a-4244-c917-b52d4cc57583"
      },
      "source": [
        "# TinyImageNet\n",
        "if not path.isdir(\"./data/tiny-imagenet-200\"):\n",
        "    !wget http://cs231n.stanford.edu/tiny-imagenet-200.zip\n",
        "    !unzip -q tiny-imagenet-200.zip -d ./data/"
      ],
      "execution_count": null,
      "outputs": [
        {
          "output_type": "stream",
          "name": "stdout",
          "text": [
            "--2021-10-09 14:39:10--  http://cs231n.stanford.edu/tiny-imagenet-200.zip\n",
            "Resolving cs231n.stanford.edu (cs231n.stanford.edu)... 171.64.68.10\n",
            "Connecting to cs231n.stanford.edu (cs231n.stanford.edu)|171.64.68.10|:80... connected.\n",
            "HTTP request sent, awaiting response... 200 OK\n",
            "Length: 248100043 (237M) [application/zip]\n",
            "Saving to: ‘tiny-imagenet-200.zip’\n",
            "\n",
            "tiny-imagenet-200.z 100%[===================>] 236.61M  10.5MB/s    in 23s     \n",
            "\n",
            "2021-10-09 14:39:33 (10.5 MB/s) - ‘tiny-imagenet-200.zip’ saved [248100043/248100043]\n",
            "\n"
          ]
        }
      ]
    },
    {
      "cell_type": "code",
      "metadata": {
        "id": "4_b43-2J-hSe"
      },
      "source": [
        "#@title Hyperparameters (TODO: find reasonable values)\n",
        "batch_size = \"256\" #@param [\"64\", \"128\", \"256\"]\n",
        "learning_rate = \"0.001\" #@param [\"0.0001\", \"0.001\", \"0.01\", \"0.1\"]"
      ],
      "execution_count": 4,
      "outputs": []
    },
    {
      "cell_type": "markdown",
      "metadata": {
        "id": "ZqSqyaBD9B2L"
      },
      "source": [
        "Create dataloader for selected dataset; set fitting input/output sizes for selected dataset; set name for log file based on dataset, hyperparameters"
      ]
    },
    {
      "cell_type": "code",
      "metadata": {
        "colab": {
          "base_uri": "https://localhost:8080/",
          "height": 114,
          "referenced_widgets": [
            "0588c085d8f74ac7b6b4fccee8c12a60",
            "d3884ae260c64d2886aaf3426c3d6777",
            "d905b7aca86b4754823d7317b508f921",
            "091bee222cc74c00b37516242bca36a1",
            "9cdc88af6cd0414bbce7f7e63ae35338",
            "ba0ad0837f15401dba768ac89fdf9dd4",
            "c625cbbcbdca4b01983b153ba519d8ab",
            "8d502915138f4b75afa9629635e85da8",
            "d0df5fb92a55461dbbbc2bfbcb7cd4c2",
            "1a28135ebc6a499b92988851daff8c52",
            "9b073b6951fc41de97d39e5b392d7177"
          ]
        },
        "id": "9dVNwdSX9GXG",
        "outputId": "cee53af6-e1b8-4507-c9c4-ad68d4c7dcee"
      },
      "source": [
        "dataset = \"STL-10\" #@param [\"STL-10\", \"TinyImageNet\", \"CIFAR-10\"]\n",
        "\n",
        "# create datasets\n",
        "if dataset == \"STL-10\":\n",
        "    training_dataset = datasets.STL10(root='./data/STL10', split='train', transform=transforms.ToTensor(), download=True)\n",
        "    validation_dataset = datasets.STL10(root='./data/STL10', split='test', transform=transforms.ToTensor(), download=True)\n",
        "    in_size = 96\n",
        "    num_classes = 10\n",
        "if dataset == \"CIFAR-10\":\n",
        "    training_dataset = datasets.CIFAR10(root='./data/CIFAR10', train=True, download=True, transform=transforms.ToTensor())\n",
        "    validation_dataset = datasets.CIFAR10(root='./data/CIFAR10', train=False, download=True, transform=transforms.ToTensor())\n",
        "    in_size = 32\n",
        "    num_classes = 10\n",
        "if dataset == \"TinyImageNet\":\n",
        "    training_dataset = datasets.ImageFolder(\"./data/tiny-imagenet-200/train\", transform=transforms.Compose([transforms.ToTensor()]))\n",
        "    validation_dataset = datasets.ImageFolder(\"./data/tiny-imagenet-200/val\", transform=transforms.Compose([transforms.ToTensor()]))\n",
        "    in_size = 64\n",
        "    num_classes = 200\n",
        "\n",
        "# create dataloaders\n",
        "training_loader = torch.utils.data.DataLoader(training_dataset, batch_size=int(batch_size), shuffle=True)\n",
        "validation_loader = torch.utils.data.DataLoader(validation_dataset, batch_size=int(batch_size), shuffle=False)\n",
        "\n",
        "# set name for log file\n",
        "result_filename = \"MLP-Mixer_\" + dataset + \"_batch\" + batch_size + \"_learnrate\" + learning_rate"
      ],
      "execution_count": null,
      "outputs": [
        {
          "output_type": "stream",
          "name": "stdout",
          "text": [
            "Downloading http://ai.stanford.edu/~acoates/stl10/stl10_binary.tar.gz to ./data/STL10/stl10_binary.tar.gz\n"
          ]
        },
        {
          "output_type": "display_data",
          "data": {
            "application/vnd.jupyter.widget-view+json": {
              "model_id": "0588c085d8f74ac7b6b4fccee8c12a60",
              "version_minor": 0,
              "version_major": 2
            },
            "text/plain": [
              "  0%|          | 0/2640397119 [00:00<?, ?it/s]"
            ]
          },
          "metadata": {}
        }
      ]
    },
    {
      "cell_type": "markdown",
      "metadata": {
        "id": "lXc127VXH434"
      },
      "source": [
        "Dataloader Test"
      ]
    },
    {
      "cell_type": "code",
      "metadata": {
        "colab": {
          "base_uri": "https://localhost:8080/",
          "height": 536
        },
        "id": "G7ThwT4bGjZD",
        "outputId": "90abfe2c-b9eb-40c1-cf32-d4b4e299decb"
      },
      "source": [
        "train_data, train_label = next(iter(training_loader))\n",
        "\n",
        "to_image = transforms.ToPILImage()\n",
        "\n",
        "figure(figsize=(9,9))\n",
        "# Plot the first 9 images\n",
        "for i, (data, label) in enumerate(zip(train_data[:9],train_label[:9])):\n",
        "    subplot(3,3,1+i)\n",
        "    imshow(to_image(data))\n",
        "    title('label = %d'%label)\n",
        "    axis('off')"
      ],
      "execution_count": null,
      "outputs": [
        {
          "output_type": "display_data",
          "data": {
            "image/png": "[encoded data removed]",
            "text/plain": [
              "<Figure size 648x648 with 9 Axes>"
            ]
          },
          "metadata": {
            "needs_background": "light"
          }
        }
      ]
    },
    {
      "cell_type": "markdown",
      "metadata": {
        "id": "8fsTBU5cEl17"
      },
      "source": [
        "Load tensorboard"
      ]
    },
    {
      "cell_type": "code",
      "metadata": {
        "id": "VkhqvTvJEnJl"
      },
      "source": [
        "%load_ext tensorboard\n",
        "%tensorboard --logdir . --port 6006"
      ],
      "execution_count": null,
      "outputs": []
    },
    {
      "cell_type": "markdown",
      "metadata": {
        "id": "Pl3yqRF9Fs9d"
      },
      "source": [
        "Train and log results"
      ]
    },
    {
      "cell_type": "code",
      "metadata": {
        "id": "3bOqG-SdFuay"
      },
      "source": [
        "epochs = 10\n",
        "\n",
        "\n",
        "for learning_rate in [0.0001, 0.001, 0.01]:\n",
        "    for batch_size in [256, 512]:\n",
        "        # set name for log file\n",
        "        result_filename = \"MLP-Mixer_\" + dataset + \"_batch\" + str(batch_size) + \"_learnrate\" + str(learning_rate)\n",
        "\n",
        "        if not os.path.exists(\"/content/drive/My Drive/MLP-Mixer_Results/\" + result_filename + \".csv\"):\n",
        "            # create S/16 model; training B/16 takes forever\n",
        "            model = timm.models.mlp_mixer.mixer_s16_224(pretrained=False, num_classes=num_classes, img_size=in_size)\n",
        "\n",
        "            # create optimizer\n",
        "            optimizer = torch.optim.Adam(model.parameters(), lr=learning_rate)\n",
        "\n",
        "            # create loss function\n",
        "            loss_fn = nn.CrossEntropyLoss()\n",
        "\n",
        "            # create dataloaders\n",
        "            training_loader = torch.utils.data.DataLoader(training_dataset, batch_size=batch_size, shuffle=True)\n",
        "            validation_loader = torch.utils.data.DataLoader(validation_dataset, batch_size=batch_size, shuffle=False)\n",
        "\n",
        "            # create loggers\n",
        "            train_logger = tb.SummaryWriter(path.join(\".\", 'train_' + result_filename + '_{}'.format(time.strftime('%m-%d-%H-%M'))), flush_secs=1)\n",
        "            valid_logger = tb.SummaryWriter(path.join(\".\", 'valid_' + result_filename + '_{}'.format(time.strftime('%m-%d-%H-%M'))), flush_secs=1)\n",
        "\n",
        "            results =  []\n",
        "            losses = []\n",
        "\n",
        "            global_step = 0\n",
        "\n",
        "            for e in range(epochs):\n",
        "                running_loss = 0.0\n",
        "                running_corrects = 0.0\n",
        "                val_running_loss = 0.0\n",
        "                val_running_corrects = 0.0\n",
        "                \n",
        "                for inputs, labels in tqdm(training_loader):\n",
        "                    inputs = inputs.to(device)\n",
        "                    labels = labels.to(device)\n",
        "\n",
        "                    outputs = model(inputs)\n",
        "\n",
        "                    loss = loss_fn(outputs, labels) \n",
        "\n",
        "                    train_logger.add_scalar('loss', loss, global_step)\n",
        "\n",
        "                    optimizer.zero_grad()\n",
        "                    loss.backward()\n",
        "                    optimizer.step()\n",
        "\n",
        "                    _, preds = torch.max(outputs, 1)\n",
        "                    running_loss += loss.item()\n",
        "                    running_corrects += torch.sum(preds == labels.data).item()\n",
        "\n",
        "                    losses.append(loss.item())\n",
        "\n",
        "                    global_step += 1\n",
        "\n",
        "                # validation\n",
        "                with torch.no_grad(): # No gradient for validation\n",
        "                    for val_inputs, val_labels in validation_loader:\n",
        "                        val_inputs = val_inputs.to(device)\n",
        "                        val_labels = val_labels.to(device)\n",
        "\n",
        "                        val_outputs = model(val_inputs)\n",
        "\n",
        "                        val_loss = loss_fn(val_outputs, val_labels)\n",
        "                        \n",
        "                        _, val_preds = torch.max(val_outputs, 1)\n",
        "                        val_running_loss += val_loss.item()\n",
        "                        val_running_corrects += torch.sum(val_preds == val_labels.data).item()\n",
        "                    \n",
        "                epoch_loss = running_loss/len(training_dataset)\n",
        "                epoch_acc = running_corrects/ len(training_dataset)\n",
        "\n",
        "                train_logger.add_scalar('accuracy', epoch_acc, global_step)\n",
        "                \n",
        "                val_epoch_loss = val_running_loss/len(validation_dataset)\n",
        "                val_epoch_acc = val_running_corrects/ len(validation_dataset)\n",
        "                \n",
        "                valid_logger.add_scalar('accuracy', val_epoch_acc, global_step)\n",
        "                \n",
        "                epoch_results = {\n",
        "                    'Epoch': e,\n",
        "                    'Training Loss': round(epoch_loss, 3),\n",
        "                    'Validation Loss': round(val_epoch_loss, 3),\n",
        "                    'Training Accuracy': round(epoch_acc,3),\n",
        "                    'Validation Accuracy': round(val_epoch_acc,3)\n",
        "                    }\n",
        "                \n",
        "                print(epoch_results)\n",
        "                results.append(epoch_results)\n",
        "\n",
        "            print(\"Writing logs...\")\n",
        "\n",
        "            csv_columns = ['Epoch', 'Training Loss', 'Validation Loss', 'Training Accuracy',  'Validation Accuracy']\n",
        "            try:\n",
        "                with open(result_filename + \".csv\", 'w', newline='') as csvfile:\n",
        "                    writer = csv.DictWriter(csvfile, fieldnames=csv_columns)\n",
        "                    writer.writeheader()\n",
        "                    for data in results:\n",
        "                        writer.writerow(data)\n",
        "            except IOError:\n",
        "                print(\"I/O error\")\n",
        "\n",
        "            with open(result_filename + \"_losses.txt\", \"w\") as f:\n",
        "                with loss_val in losses:\n",
        "                    f.write(str(loss_val) + \"\\n\")\n",
        "\n",
        "            torch.save(model, result_filename + \".th\")\n",
        "\n",
        "            # save results to drive\n",
        "            try:\n",
        "                if not os.path.exists('/content/drive/My Drive/MLP-Mixer_Results/'):\n",
        "                    os.mkdir('/content/drive/My Drive/MLP-Mixer_Results/')\n",
        "                shutil.copyfile(result_filename + \".th\", \"/content/drive/My Drive/MLP-Mixer_Results/\" + result_filename + \".th\")\n",
        "                shutil.copyfile(result_filename + \".csv\", \"/content/drive/My Drive/MLP-Mixer_Results/\" + result_filename + \".csv\")\n",
        "                shutil.copyfile(result_filename + \"_losses.txt\", \"/content/drive/My Drive/MLP-Mixer_Results/\" + result_filename + \"_losses.txt\")\n",
        "            except Exception as e:\n",
        "                print(e)\n",
        "\n",
        "            print(\"Done training \" + result_filename)"
      ],
      "execution_count": null,
      "outputs": []
    }
  ]
}