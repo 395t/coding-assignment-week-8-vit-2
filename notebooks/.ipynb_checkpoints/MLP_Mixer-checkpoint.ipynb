{
 "cells": [
  {
   "cell_type": "markdown",
   "metadata": {
    "id": "3UPgzLqt5zCH"
   },
   "source": [
    "# Coding: Vision Transformers (Oct 14)\n",
    "## MLP-Mixer (https://arxiv.org/abs/2105.01601)"
   ]
  },
  {
   "cell_type": "markdown",
   "metadata": {
    "id": "bDmoF_RB5mWz"
   },
   "source": [
    "Install dependencies"
   ]
  },
  {
   "cell_type": "code",
   "execution_count": 1,
   "metadata": {
    "colab": {
     "base_uri": "https://localhost:8080/"
    },
    "id": "EEKrTRU14xn5",
    "outputId": "62509b04-17d0-4bb5-df34-6d3822c9528e"
   },
   "outputs": [
    {
     "name": "stdout",
     "output_type": "stream",
     "text": [
      "Collecting timm\n",
      "  Downloading timm-0.4.12-py3-none-any.whl (376 kB)\n",
      "\u001b[?25l\r",
      "\u001b[K     |▉                               | 10 kB 25.7 MB/s eta 0:00:01\r",
      "\u001b[K     |█▊                              | 20 kB 11.9 MB/s eta 0:00:01\r",
      "\u001b[K     |██▋                             | 30 kB 9.3 MB/s eta 0:00:01\r",
      "\u001b[K     |███▌                            | 40 kB 8.4 MB/s eta 0:00:01\r",
      "\u001b[K     |████▍                           | 51 kB 6.8 MB/s eta 0:00:01\r",
      "\u001b[K     |█████▏                          | 61 kB 7.4 MB/s eta 0:00:01\r",
      "\u001b[K     |██████                          | 71 kB 6.9 MB/s eta 0:00:01\r",
      "\u001b[K     |███████                         | 81 kB 7.7 MB/s eta 0:00:01\r",
      "\u001b[K     |███████▉                        | 92 kB 6.4 MB/s eta 0:00:01\r",
      "\u001b[K     |████████▊                       | 102 kB 6.6 MB/s eta 0:00:01\r",
      "\u001b[K     |█████████▋                      | 112 kB 6.6 MB/s eta 0:00:01\r",
      "\u001b[K     |██████████▍                     | 122 kB 6.6 MB/s eta 0:00:01\r",
      "\u001b[K     |███████████▎                    | 133 kB 6.6 MB/s eta 0:00:01\r",
      "\u001b[K     |████████████▏                   | 143 kB 6.6 MB/s eta 0:00:01\r",
      "\u001b[K     |█████████████                   | 153 kB 6.6 MB/s eta 0:00:01\r",
      "\u001b[K     |██████████████                  | 163 kB 6.6 MB/s eta 0:00:01\r",
      "\u001b[K     |██████████████▊                 | 174 kB 6.6 MB/s eta 0:00:01\r",
      "\u001b[K     |███████████████▋                | 184 kB 6.6 MB/s eta 0:00:01\r",
      "\u001b[K     |████████████████▌               | 194 kB 6.6 MB/s eta 0:00:01\r",
      "\u001b[K     |█████████████████▍              | 204 kB 6.6 MB/s eta 0:00:01\r",
      "\u001b[K     |██████████████████▎             | 215 kB 6.6 MB/s eta 0:00:01\r",
      "\u001b[K     |███████████████████▏            | 225 kB 6.6 MB/s eta 0:00:01\r",
      "\u001b[K     |████████████████████            | 235 kB 6.6 MB/s eta 0:00:01\r",
      "\u001b[K     |████████████████████▉           | 245 kB 6.6 MB/s eta 0:00:01\r",
      "\u001b[K     |█████████████████████▊          | 256 kB 6.6 MB/s eta 0:00:01\r",
      "\u001b[K     |██████████████████████▋         | 266 kB 6.6 MB/s eta 0:00:01\r",
      "\u001b[K     |███████████████████████▌        | 276 kB 6.6 MB/s eta 0:00:01\r",
      "\u001b[K     |████████████████████████▍       | 286 kB 6.6 MB/s eta 0:00:01\r",
      "\u001b[K     |█████████████████████████▏      | 296 kB 6.6 MB/s eta 0:00:01\r",
      "\u001b[K     |██████████████████████████      | 307 kB 6.6 MB/s eta 0:00:01\r",
      "\u001b[K     |███████████████████████████     | 317 kB 6.6 MB/s eta 0:00:01\r",
      "\u001b[K     |███████████████████████████▉    | 327 kB 6.6 MB/s eta 0:00:01\r",
      "\u001b[K     |████████████████████████████▊   | 337 kB 6.6 MB/s eta 0:00:01\r",
      "\u001b[K     |█████████████████████████████▌  | 348 kB 6.6 MB/s eta 0:00:01\r",
      "\u001b[K     |██████████████████████████████▍ | 358 kB 6.6 MB/s eta 0:00:01\r",
      "\u001b[K     |███████████████████████████████▎| 368 kB 6.6 MB/s eta 0:00:01\r",
      "\u001b[K     |████████████████████████████████| 376 kB 6.6 MB/s \n",
      "\u001b[?25hRequirement already satisfied: torch>=1.4 in /usr/local/lib/python3.7/dist-packages (from timm) (1.9.0+cu111)\n",
      "Requirement already satisfied: torchvision in /usr/local/lib/python3.7/dist-packages (from timm) (0.10.0+cu111)\n",
      "Requirement already satisfied: typing-extensions in /usr/local/lib/python3.7/dist-packages (from torch>=1.4->timm) (3.7.4.3)\n",
      "Requirement already satisfied: pillow>=5.3.0 in /usr/local/lib/python3.7/dist-packages (from torchvision->timm) (7.1.2)\n",
      "Requirement already satisfied: numpy in /usr/local/lib/python3.7/dist-packages (from torchvision->timm) (1.19.5)\n",
      "Installing collected packages: timm\n",
      "Successfully installed timm-0.4.12\n"
     ]
    }
   ],
   "source": [
    "!pip install timm"
   ]
  },
  {
   "cell_type": "markdown",
   "metadata": {
    "id": "xK4fpg_o_gKs"
   },
   "source": [
    "Imports"
   ]
  },
  {
   "cell_type": "code",
   "execution_count": 21,
   "metadata": {
    "colab": {
     "base_uri": "https://localhost:8080/"
    },
    "id": "cQJ1NKng_lUk",
    "outputId": "ed2a1832-73ce-4387-d551-8c4adbe275fd"
   },
   "outputs": [
    {
     "name": "stdout",
     "output_type": "stream",
     "text": [
      "Populating the interactive namespace from numpy and matplotlib\n"
     ]
    }
   ],
   "source": [
    "import csv\n",
    "import numpy as np\n",
    "import torch\n",
    "import torch.nn.functional as F\n",
    "from torch import nn\n",
    "from torchvision import datasets,transforms\n",
    "import torch.utils.tensorboard as tb\n",
    "\n",
    "import timm \n",
    "\n",
    "from tqdm import tqdm\n",
    "\n",
    "%pylab inline"
   ]
  },
  {
   "cell_type": "markdown",
   "metadata": {
    "id": "DVxT0o1U6HTF"
   },
   "source": [
    "Download TinyImageNet dataset"
   ]
  },
  {
   "cell_type": "code",
   "execution_count": 14,
   "metadata": {
    "id": "0UD_MXn-7ZWD"
   },
   "outputs": [],
   "source": [
    "# TinyImageNet\n",
    "!wget http://cs231n.stanford.edu/tiny-imagenet-200.zip\n",
    "!unzip -q tiny-imagenet-200.zip -d ./data/"
   ]
  },
  {
   "cell_type": "code",
   "execution_count": 17,
   "metadata": {
    "id": "4_b43-2J-hSe"
   },
   "outputs": [],
   "source": [
    "#@title Hyperparameters (TODO: find reasonable values)\n",
    "batch_size = \"64\" #@param [\"16\", \"64\", \"256\", \"1024\"]\n",
    "learning_rate = \"0.001\" #@param [\"0.0001\", \"0.001\", \"0.01\", \"0.1\"]"
   ]
  },
  {
   "cell_type": "markdown",
   "metadata": {
    "id": "ZqSqyaBD9B2L"
   },
   "source": [
    "Create dataloader for selected dataset; set fitting input/output sizes for selected dataset; set name for log file based on dataset, hyperparameters"
   ]
  },
  {
   "cell_type": "code",
   "execution_count": 34,
   "metadata": {
    "colab": {
     "base_uri": "https://localhost:8080/",
     "height": 104
    },
    "id": "9dVNwdSX9GXG",
    "outputId": "56954de4-6b06-4933-9fd8-b7d30771d4d1"
   },
   "outputs": [
    {
     "name": "stdout",
     "output_type": "stream",
     "text": [
      "Downloading https://www.cs.toronto.edu/~kriz/cifar-10-python.tar.gz to ./data/CIFAR10/cifar-10-python.tar.gz\n"
     ]
    },
    {
     "data": {
      "application/vnd.jupyter.widget-view+json": {
       "model_id": "f22647e89241438a8668478df4ae160f",
       "version_major": 2,
       "version_minor": 0
      },
      "text/plain": [
       "  0%|          | 0/170498071 [00:00<?, ?it/s]"
      ]
     },
     "metadata": {},
     "output_type": "display_data"
    },
    {
     "name": "stdout",
     "output_type": "stream",
     "text": [
      "Extracting ./data/CIFAR10/cifar-10-python.tar.gz to ./data/CIFAR10\n",
      "Files already downloaded and verified\n"
     ]
    }
   ],
   "source": [
    "dataset = \"CIFAR-10\" #@param [\"STL-10\", \"TinyImageNet\", \"CIFAR-10\"]\n",
    "\n",
    "# create datasets\n",
    "if dataset == \"STL-10\":\n",
    "    training_dataset = datasets.STL10(root='./data/STL10', split='train', transform=transforms.ToTensor(), download=True)\n",
    "    validation_dataset = datasets.STL10(root='./data/STL10', split='test', transform=transforms.ToTensor(), download=True)\n",
    "    in_size = 96\n",
    "    num_classes = 10\n",
    "if dataset == \"CIFAR-10\":\n",
    "    training_dataset = datasets.CIFAR10(root='./data/CIFAR10', train=True, download=True, transform=transforms.ToTensor())\n",
    "    validation_dataset = datasets.CIFAR10(root='./data/CIFAR10', train=False, download=True, transform=transforms.ToTensor())\n",
    "    in_size = 32\n",
    "    num_classes = 10\n",
    "if dataset == \"TinyImageNet\":\n",
    "    training_dataset = datasets.ImageFolder(\"./data/tiny-imagenet-200/train\", transform=transforms.Compose([transforms.ToTensor()]))\n",
    "    validation_dataset = datasets.ImageFolder(\"./data/tiny-imagenet-200/val\", transform=transforms.Compose([transforms.ToTensor()]))\n",
    "    in_size = 64\n",
    "    num_classes = 200\n",
    "\n",
    "# create dataloaders\n",
    "training_loader = torch.utils.data.DataLoader(training_dataset, batch_size=int(batch_size), shuffle=True)\n",
    "validation_loader = torch.utils.data.DataLoader(validation_dataset, batch_size=int(batch_size), shuffle=False)\n",
    "\n",
    "# set name for log file\n",
    "csv_file = \"MLP-Mixer_\" + dataset + \"_batch\" + batch_size + \"_learnrate\" + learning_rate + \".csv\""
   ]
  },
  {
   "cell_type": "markdown",
   "metadata": {
    "id": "lXc127VXH434"
   },
   "source": [
    "Dataloader Test"
   ]
  },
  {
   "cell_type": "code",
   "execution_count": 35,
   "metadata": {
    "colab": {
     "base_uri": "https://localhost:8080/",
     "height": 536
    },
    "id": "G7ThwT4bGjZD",
    "outputId": "df6f1da9-49ad-4931-ced5-b28c30f37a64"
   },
   "outputs": [
    {
     "data": {
      "image/png": "[encoded data removed]",
      "text/plain": [
       "<Figure size 648x648 with 9 Axes>"
      ]
     },
     "metadata": {
      "needs_background": "light"
     },
     "output_type": "display_data"
    }
   ],
   "source": [
    "train_data, train_label = next(iter(training_loader))\n",
    "\n",
    "to_image = transforms.ToPILImage()\n",
    "\n",
    "figure(figsize=(9,9))\n",
    "# Plot the first 9 images\n",
    "for i, (data, label) in enumerate(zip(train_data[:9],train_label[:9])):\n",
    "    subplot(3,3,1+i)\n",
    "    imshow(to_image(data))\n",
    "    title('label = %d'%label)\n",
    "    axis('off')"
   ]
  },
  {
   "cell_type": "markdown",
   "metadata": {
    "id": "FKE4Iu8QFlo6"
   },
   "source": [
    "Create model and optimizer"
   ]
  },
  {
   "cell_type": "code",
   "execution_count": null,
   "metadata": {
    "id": "h613KW87FoEn"
   },
   "outputs": [],
   "source": [
    "# TODO"
   ]
  },
  {
   "cell_type": "markdown",
   "metadata": {
    "id": "8fsTBU5cEl17"
   },
   "source": [
    "Load tensorboard"
   ]
  },
  {
   "cell_type": "code",
   "execution_count": null,
   "metadata": {
    "id": "VkhqvTvJEnJl"
   },
   "outputs": [],
   "source": [
    "%load_ext tensorboard\n",
    "%tensorboard --logdir . --port 6006"
   ]
  },
  {
   "cell_type": "markdown",
   "metadata": {
    "id": "Pl3yqRF9Fs9d"
   },
   "source": [
    "Train and log results"
   ]
  },
  {
   "cell_type": "code",
   "execution_count": null,
   "metadata": {
    "id": "3bOqG-SdFuay"
   },
   "outputs": [],
   "source": [
    "# TODO: adapt Daniel's code"
   ]
  }
 ],
 "metadata": {
  "colab": {
   "collapsed_sections": [],
   "name": "MLP-Mixer.ipynb",
   "provenance": []
  },
  "kernelspec": {
   "display_name": "Python 3",
   "language": "python",
   "name": "python3"
  },
  "language_info": {
   "codemirror_mode": {
    "name": "ipython",
    "version": 3
   },
   "file_extension": ".py",
   "mimetype": "text/x-python",
   "name": "python",
   "nbconvert_exporter": "python",
   "pygments_lexer": "ipython3",
   "version": "3.7.9"
  }
 },
 "nbformat": 4,
 "nbformat_minor": 1
}
